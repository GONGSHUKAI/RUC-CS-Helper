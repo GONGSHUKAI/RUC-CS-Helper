{
 "cells": [
  {
   "cell_type": "markdown",
   "metadata": {},
   "source": [
    "# 文本部分大作业（文本分词、表达、分类和检索）\n",
    "### 2018202147 崔冠宇"
   ]
  },
  {
   "cell_type": "code",
   "execution_count": 1,
   "metadata": {},
   "outputs": [],
   "source": [
    "import numpy as np\n",
    "import pandas as pd"
   ]
  },
  {
   "cell_type": "markdown",
   "metadata": {},
   "source": [
    "## 1.预处理"
   ]
  },
  {
   "cell_type": "markdown",
   "metadata": {},
   "source": [
    "### 1.1 加载有标签数据"
   ]
  },
  {
   "cell_type": "code",
   "execution_count": 2,
   "metadata": {},
   "outputs": [
    {
     "data": {
      "text/html": [
       "<div>\n",
       "<style scoped>\n",
       "    .dataframe tbody tr th:only-of-type {\n",
       "        vertical-align: middle;\n",
       "    }\n",
       "\n",
       "    .dataframe tbody tr th {\n",
       "        vertical-align: top;\n",
       "    }\n",
       "\n",
       "    .dataframe thead th {\n",
       "        text-align: right;\n",
       "    }\n",
       "</style>\n",
       "<table border=\"1\" class=\"dataframe\">\n",
       "  <thead>\n",
       "    <tr style=\"text-align: right;\">\n",
       "      <th></th>\n",
       "      <th>标签</th>\n",
       "      <th>内容</th>\n",
       "    </tr>\n",
       "  </thead>\n",
       "  <tbody>\n",
       "    <tr>\n",
       "      <th>0</th>\n",
       "      <td>0</td>\n",
       "      <td>商业秘密的秘密性那是维系其商业价值和垄断地位的前提条件之一</td>\n",
       "    </tr>\n",
       "    <tr>\n",
       "      <th>1</th>\n",
       "      <td>1</td>\n",
       "      <td>南口阿玛施新春第一批限量春装到店啦         春暖花开淑女裙、冰蓝色公主衫  ...</td>\n",
       "    </tr>\n",
       "    <tr>\n",
       "      <th>2</th>\n",
       "      <td>0</td>\n",
       "      <td>带给我们大常州一场壮观的视觉盛宴</td>\n",
       "    </tr>\n",
       "    <tr>\n",
       "      <th>3</th>\n",
       "      <td>0</td>\n",
       "      <td>有原因不明的泌尿系统结石等</td>\n",
       "    </tr>\n",
       "    <tr>\n",
       "      <th>4</th>\n",
       "      <td>0</td>\n",
       "      <td>23年从盐城拉回来的麻麻的嫁妆</td>\n",
       "    </tr>\n",
       "    <tr>\n",
       "      <th>...</th>\n",
       "      <td>...</td>\n",
       "      <td>...</td>\n",
       "    </tr>\n",
       "    <tr>\n",
       "      <th>799995</th>\n",
       "      <td>0</td>\n",
       "      <td>助排毒缓解痛经预防子宫肌瘤&amp;amp</td>\n",
       "    </tr>\n",
       "    <tr>\n",
       "      <th>799996</th>\n",
       "      <td>0</td>\n",
       "      <td>这是今年首次启动I级防台应急响应</td>\n",
       "    </tr>\n",
       "    <tr>\n",
       "      <th>799997</th>\n",
       "      <td>0</td>\n",
       "      <td>丽江下飞机时迎接我们的是凉风</td>\n",
       "    </tr>\n",
       "    <tr>\n",
       "      <th>799998</th>\n",
       "      <td>0</td>\n",
       "      <td>费了半天劲各种找关系终于联系上心仪公司的内部人</td>\n",
       "    </tr>\n",
       "    <tr>\n",
       "      <th>799999</th>\n",
       "      <td>0</td>\n",
       "      <td>是汉奸还是被强奸自己对号入座吧</td>\n",
       "    </tr>\n",
       "  </tbody>\n",
       "</table>\n",
       "<p>800000 rows × 2 columns</p>\n",
       "</div>"
      ],
      "text/plain": [
       "        标签                                                 内容\n",
       "0        0                      商业秘密的秘密性那是维系其商业价值和垄断地位的前提条件之一\n",
       "1        1  南口阿玛施新春第一批限量春装到店啦         春暖花开淑女裙、冰蓝色公主衫  ...\n",
       "2        0                                   带给我们大常州一场壮观的视觉盛宴\n",
       "3        0                                      有原因不明的泌尿系统结石等\n",
       "4        0                                    23年从盐城拉回来的麻麻的嫁妆\n",
       "...     ..                                                ...\n",
       "799995   0                                  助排毒缓解痛经预防子宫肌瘤&amp\n",
       "799996   0                                   这是今年首次启动I级防台应急响应\n",
       "799997   0                                     丽江下飞机时迎接我们的是凉风\n",
       "799998   0                            费了半天劲各种找关系终于联系上心仪公司的内部人\n",
       "799999   0                                    是汉奸还是被强奸自己对号入座吧\n",
       "\n",
       "[800000 rows x 2 columns]"
      ]
     },
     "execution_count": 2,
     "metadata": {},
     "output_type": "execute_result"
    }
   ],
   "source": [
    "# 加载短信内容\n",
    "def my_read_txt(file, is_labeled = True, names = None):\n",
    "    with open(file, 'r', encoding = 'utf-8') as f:\n",
    "        if is_labeled:\n",
    "            texts = [[int(line.strip()[0]), line.strip()[2:]] for line in f]\n",
    "        else:\n",
    "            texts = [line.strip() for line in f]\n",
    "        return pd.DataFrame(texts, columns = names)\n",
    "# 带标签\n",
    "df_wlabel = my_read_txt('短信数据/带标签短信.txt', names = ['标签', '内容'])\n",
    "df_wlabel"
   ]
  },
  {
   "cell_type": "code",
   "execution_count": 3,
   "metadata": {},
   "outputs": [
    {
     "data": {
      "text/plain": [
       "0    720000\n",
       "1     80000\n",
       "Name: 标签, dtype: int64"
      ]
     },
     "execution_count": 3,
     "metadata": {},
     "output_type": "execute_result"
    }
   ],
   "source": [
    "# 观察数据分布\n",
    "df_wlabel['标签'].value_counts()"
   ]
  },
  {
   "cell_type": "code",
   "execution_count": 4,
   "metadata": {},
   "outputs": [
    {
     "data": {
      "text/html": [
       "<div>\n",
       "<style scoped>\n",
       "    .dataframe tbody tr th:only-of-type {\n",
       "        vertical-align: middle;\n",
       "    }\n",
       "\n",
       "    .dataframe tbody tr th {\n",
       "        vertical-align: top;\n",
       "    }\n",
       "\n",
       "    .dataframe thead th {\n",
       "        text-align: right;\n",
       "    }\n",
       "</style>\n",
       "<table border=\"1\" class=\"dataframe\">\n",
       "  <thead>\n",
       "    <tr style=\"text-align: right;\">\n",
       "      <th></th>\n",
       "      <th>标签</th>\n",
       "      <th>内容</th>\n",
       "    </tr>\n",
       "  </thead>\n",
       "  <tbody>\n",
       "    <tr>\n",
       "      <th>426878</th>\n",
       "      <td>1</td>\n",
       "      <td>/:rose/:rose美女节快乐～红妆日化高堡子分店给美女们送优惠啦/::Bx.春季新品全...</td>\n",
       "    </tr>\n",
       "    <tr>\n",
       "      <th>548471</th>\n",
       "      <td>1</td>\n",
       "      <td>音乐在线KTV欢迎您的来电，本KTV为您提供包厢、唱K、休闲娱乐、餐饮等服务，订厢热线：xx...</td>\n",
       "    </tr>\n",
       "    <tr>\n",
       "      <th>494989</th>\n",
       "      <td>1</td>\n",
       "      <td>迎十五庆三八，哈密季候风 在x月x日---x月x日，春款满xxx立减xxx元，冬装x折，欲购从速哦</td>\n",
       "    </tr>\n",
       "    <tr>\n",
       "      <th>382839</th>\n",
       "      <td>1</td>\n",
       "      <td>格力龙卷风再起，羊年开春第一抢！不用找熟人不用找朋友不用找关系，x月x日--x月xx日万人空...</td>\n",
       "    </tr>\n",
       "    <tr>\n",
       "      <th>406210</th>\n",
       "      <td>1</td>\n",
       "      <td>( 新 _葡_ 京 ) 充 * 存 * 立 * 送 xoo%  地址：xx xx xx.com</td>\n",
       "    </tr>\n",
       "    <tr>\n",
       "      <th>489269</th>\n",
       "      <td>1</td>\n",
       "      <td>月x日（妇女节）期间年利率低至x%！收到本短信的客户，您就有机会快贷哦！马上登录建行网银，点...</td>\n",
       "    </tr>\n",
       "    <tr>\n",
       "      <th>755593</th>\n",
       "      <td>1</td>\n",
       "      <td>基本不变</td>\n",
       "    </tr>\n",
       "    <tr>\n",
       "      <th>441192</th>\n",
       "      <td>1</td>\n",
       "      <td>博克曼衣柜开春厂家大促销，衣柜最低低至xxx元/每平方，机会难得，错过在等一年.地址：红星美...</td>\n",
       "    </tr>\n",
       "    <tr>\n",
       "      <th>324665</th>\n",
       "      <td>1</td>\n",
       "      <td>欢迎您致电苹果艺术酒店管理有限公司星空影院。本公司主营酒店餐饮娱乐业。本店地址连州市东门中路...</td>\n",
       "    </tr>\n",
       "    <tr>\n",
       "      <th>757654</th>\n",
       "      <td>1</td>\n",
       "      <td>x?xx--诚信到家、诚实到价！ 搬新家、住新房--买门窗、我只选派雅门窗！ 好门窗一辈子、...</td>\n",
       "    </tr>\n",
       "    <tr>\n",
       "      <th>570032</th>\n",
       "      <td>1</td>\n",
       "      <td>尊敬的顾客，三八妇女节公司大优惠，包全年面部护理卡的顾客，均享受赠送身体护理卡xxxx元，名...</td>\n",
       "    </tr>\n",
       "    <tr>\n",
       "      <th>315753</th>\n",
       "      <td>1</td>\n",
       "      <td>亲爱会员朋友:x月x日-x日金源自然堂专柜满xxx元送xx元任选产品。x月x日-x日两天双倍...</td>\n",
       "    </tr>\n",
       "    <tr>\n",
       "      <th>116138</th>\n",
       "      <td>1</td>\n",
       "      <td>您好，我是刚给您致电的奥保行奥迪xS店服务顾问小汤，即日起到x月xx日首次进店客户将获xxx...</td>\n",
       "    </tr>\n",
       "    <tr>\n",
       "      <th>636750</th>\n",
       "      <td>1</td>\n",
       "      <td>诺亚装饰举行贵小区各户型平面布局、精品效果图展示，零利润征集特惠样板间xx套</td>\n",
       "    </tr>\n",
       "    <tr>\n",
       "      <th>511969</th>\n",
       "      <td>1</td>\n",
       "      <td>大家好！新年过完了！在此祝福各位老板开工大吉大利！！！！韦运物流！！发往！！新疆。   兰州...</td>\n",
       "    </tr>\n",
       "  </tbody>\n",
       "</table>\n",
       "</div>"
      ],
      "text/plain": [
       "        标签                                                 内容\n",
       "426878   1  /:rose/:rose美女节快乐～红妆日化高堡子分店给美女们送优惠啦/::Bx.春季新品全...\n",
       "548471   1  音乐在线KTV欢迎您的来电，本KTV为您提供包厢、唱K、休闲娱乐、餐饮等服务，订厢热线：xx...\n",
       "494989   1  迎十五庆三八，哈密季候风 在x月x日---x月x日，春款满xxx立减xxx元，冬装x折，欲购从速哦\n",
       "382839   1  格力龙卷风再起，羊年开春第一抢！不用找熟人不用找朋友不用找关系，x月x日--x月xx日万人空...\n",
       "406210   1    ( 新 _葡_ 京 ) 充 * 存 * 立 * 送 xoo%  地址：xx xx xx.com\n",
       "489269   1  月x日（妇女节）期间年利率低至x%！收到本短信的客户，您就有机会快贷哦！马上登录建行网银，点...\n",
       "755593   1                                               基本不变\n",
       "441192   1  博克曼衣柜开春厂家大促销，衣柜最低低至xxx元/每平方，机会难得，错过在等一年.地址：红星美...\n",
       "324665   1  欢迎您致电苹果艺术酒店管理有限公司星空影院。本公司主营酒店餐饮娱乐业。本店地址连州市东门中路...\n",
       "757654   1  x?xx--诚信到家、诚实到价！ 搬新家、住新房--买门窗、我只选派雅门窗！ 好门窗一辈子、...\n",
       "570032   1  尊敬的顾客，三八妇女节公司大优惠，包全年面部护理卡的顾客，均享受赠送身体护理卡xxxx元，名...\n",
       "315753   1  亲爱会员朋友:x月x日-x日金源自然堂专柜满xxx元送xx元任选产品。x月x日-x日两天双倍...\n",
       "116138   1  您好，我是刚给您致电的奥保行奥迪xS店服务顾问小汤，即日起到x月xx日首次进店客户将获xxx...\n",
       "636750   1             诺亚装饰举行贵小区各户型平面布局、精品效果图展示，零利润征集特惠样板间xx套\n",
       "511969   1  大家好！新年过完了！在此祝福各位老板开工大吉大利！！！！韦运物流！！发往！！新疆。   兰州..."
      ]
     },
     "execution_count": 4,
     "metadata": {},
     "output_type": "execute_result"
    }
   ],
   "source": [
    "# 垃圾短信抽样\n",
    "df_wlabel[df_wlabel['标签'] == 1].sample(n = 15)"
   ]
  },
  {
   "cell_type": "code",
   "execution_count": 5,
   "metadata": {},
   "outputs": [
    {
     "data": {
      "text/html": [
       "<div>\n",
       "<style scoped>\n",
       "    .dataframe tbody tr th:only-of-type {\n",
       "        vertical-align: middle;\n",
       "    }\n",
       "\n",
       "    .dataframe tbody tr th {\n",
       "        vertical-align: top;\n",
       "    }\n",
       "\n",
       "    .dataframe thead th {\n",
       "        text-align: right;\n",
       "    }\n",
       "</style>\n",
       "<table border=\"1\" class=\"dataframe\">\n",
       "  <thead>\n",
       "    <tr style=\"text-align: right;\">\n",
       "      <th></th>\n",
       "      <th>标签</th>\n",
       "      <th>内容</th>\n",
       "    </tr>\n",
       "  </thead>\n",
       "  <tbody>\n",
       "    <tr>\n",
       "      <th>56511</th>\n",
       "      <td>0</td>\n",
       "      <td>交管部门允许车主临时就近停入小街巷过渡</td>\n",
       "    </tr>\n",
       "    <tr>\n",
       "      <th>415327</th>\n",
       "      <td>0</td>\n",
       "      <td>连云都变热热的~~~289</td>\n",
       "    </tr>\n",
       "    <tr>\n",
       "      <th>48955</th>\n",
       "      <td>0</td>\n",
       "      <td>Mozilla对此感到非常不满</td>\n",
       "    </tr>\n",
       "    <tr>\n",
       "      <th>521414</th>\n",
       "      <td>0</td>\n",
       "      <td>其中6台与事故同型号的电梯全部停运</td>\n",
       "    </tr>\n",
       "    <tr>\n",
       "      <th>98196</th>\n",
       "      <td>0</td>\n",
       "      <td>请您赐教C0045是什么故障影响行车安全吗谢谢</td>\n",
       "    </tr>\n",
       "    <tr>\n",
       "      <th>303012</th>\n",
       "      <td>0</td>\n",
       "      <td>主要从事腾讯企业邮箱、微信企业号等的销售工作</td>\n",
       "    </tr>\n",
       "    <tr>\n",
       "      <th>225288</th>\n",
       "      <td>0</td>\n",
       "      <td>是不是应该有旅游局的有关人员来治理呢</td>\n",
       "    </tr>\n",
       "    <tr>\n",
       "      <th>215008</th>\n",
       "      <td>0</td>\n",
       "      <td>针对从0岁到3岁的婴幼儿潜能启发</td>\n",
       "    </tr>\n",
       "    <tr>\n",
       "      <th>316422</th>\n",
       "      <td>0</td>\n",
       "      <td>咨询电话13247097146</td>\n",
       "    </tr>\n",
       "    <tr>\n",
       "      <th>738597</th>\n",
       "      <td>0</td>\n",
       "      <td>某陈姓沙皮再不来南京我要疯了</td>\n",
       "    </tr>\n",
       "    <tr>\n",
       "      <th>277448</th>\n",
       "      <td>0</td>\n",
       "      <td>真相在此|蚊子咬人还有时间表</td>\n",
       "    </tr>\n",
       "    <tr>\n",
       "      <th>66618</th>\n",
       "      <td>0</td>\n",
       "      <td>建筑风格包括客家建筑、天井式建筑、徽州建筑以及西洋建筑等流派</td>\n",
       "    </tr>\n",
       "    <tr>\n",
       "      <th>238786</th>\n",
       "      <td>0</td>\n",
       "      <td>是强奸她妈了还是强奸她了</td>\n",
       "    </tr>\n",
       "    <tr>\n",
       "      <th>537511</th>\n",
       "      <td>0</td>\n",
       "      <td>微软新一代操作系统Windows10即将正</td>\n",
       "    </tr>\n",
       "    <tr>\n",
       "      <th>657271</th>\n",
       "      <td>0</td>\n",
       "      <td>一个人在家稍微听到点动静心都会提起来不行我还是得去定下大门保险</td>\n",
       "    </tr>\n",
       "  </tbody>\n",
       "</table>\n",
       "</div>"
      ],
      "text/plain": [
       "        标签                               内容\n",
       "56511    0              交管部门允许车主临时就近停入小街巷过渡\n",
       "415327   0                    连云都变热热的~~~289\n",
       "48955    0                  Mozilla对此感到非常不满\n",
       "521414   0                其中6台与事故同型号的电梯全部停运\n",
       "98196    0          请您赐教C0045是什么故障影响行车安全吗谢谢\n",
       "303012   0           主要从事腾讯企业邮箱、微信企业号等的销售工作\n",
       "225288   0               是不是应该有旅游局的有关人员来治理呢\n",
       "215008   0                 针对从0岁到3岁的婴幼儿潜能启发\n",
       "316422   0                  咨询电话13247097146\n",
       "738597   0                   某陈姓沙皮再不来南京我要疯了\n",
       "277448   0                   真相在此|蚊子咬人还有时间表\n",
       "66618    0   建筑风格包括客家建筑、天井式建筑、徽州建筑以及西洋建筑等流派\n",
       "238786   0                     是强奸她妈了还是强奸她了\n",
       "537511   0            微软新一代操作系统Windows10即将正\n",
       "657271   0  一个人在家稍微听到点动静心都会提起来不行我还是得去定下大门保险"
      ]
     },
     "execution_count": 5,
     "metadata": {},
     "output_type": "execute_result"
    }
   ],
   "source": [
    "# 普通短信抽样\n",
    "df_wlabel[df_wlabel['标签'] == 0].sample(n = 15)"
   ]
  },
  {
   "cell_type": "markdown",
   "metadata": {},
   "source": [
    "### 1.2 数据清洗——去重"
   ]
  },
  {
   "cell_type": "code",
   "execution_count": 6,
   "metadata": {},
   "outputs": [
    {
     "data": {
      "text/html": [
       "<div>\n",
       "<style scoped>\n",
       "    .dataframe tbody tr th:only-of-type {\n",
       "        vertical-align: middle;\n",
       "    }\n",
       "\n",
       "    .dataframe tbody tr th {\n",
       "        vertical-align: top;\n",
       "    }\n",
       "\n",
       "    .dataframe thead th {\n",
       "        text-align: right;\n",
       "    }\n",
       "</style>\n",
       "<table border=\"1\" class=\"dataframe\">\n",
       "  <thead>\n",
       "    <tr style=\"text-align: right;\">\n",
       "      <th></th>\n",
       "      <th>标签</th>\n",
       "      <th>内容</th>\n",
       "    </tr>\n",
       "  </thead>\n",
       "  <tbody>\n",
       "    <tr>\n",
       "      <th>0</th>\n",
       "      <td>0</td>\n",
       "      <td>商业秘密的秘密性那是维系其商业价值和垄断地位的前提条件之一</td>\n",
       "    </tr>\n",
       "    <tr>\n",
       "      <th>1</th>\n",
       "      <td>1</td>\n",
       "      <td>南口阿玛施新春第一批限量春装到店啦         春暖花开淑女裙、冰蓝色公主衫  ...</td>\n",
       "    </tr>\n",
       "    <tr>\n",
       "      <th>2</th>\n",
       "      <td>0</td>\n",
       "      <td>带给我们大常州一场壮观的视觉盛宴</td>\n",
       "    </tr>\n",
       "    <tr>\n",
       "      <th>3</th>\n",
       "      <td>0</td>\n",
       "      <td>有原因不明的泌尿系统结石等</td>\n",
       "    </tr>\n",
       "    <tr>\n",
       "      <th>4</th>\n",
       "      <td>0</td>\n",
       "      <td>23年从盐城拉回来的麻麻的嫁妆</td>\n",
       "    </tr>\n",
       "    <tr>\n",
       "      <th>...</th>\n",
       "      <td>...</td>\n",
       "      <td>...</td>\n",
       "    </tr>\n",
       "    <tr>\n",
       "      <th>786595</th>\n",
       "      <td>0</td>\n",
       "      <td>助排毒缓解痛经预防子宫肌瘤&amp;amp</td>\n",
       "    </tr>\n",
       "    <tr>\n",
       "      <th>786596</th>\n",
       "      <td>0</td>\n",
       "      <td>这是今年首次启动I级防台应急响应</td>\n",
       "    </tr>\n",
       "    <tr>\n",
       "      <th>786597</th>\n",
       "      <td>0</td>\n",
       "      <td>丽江下飞机时迎接我们的是凉风</td>\n",
       "    </tr>\n",
       "    <tr>\n",
       "      <th>786598</th>\n",
       "      <td>0</td>\n",
       "      <td>费了半天劲各种找关系终于联系上心仪公司的内部人</td>\n",
       "    </tr>\n",
       "    <tr>\n",
       "      <th>786599</th>\n",
       "      <td>0</td>\n",
       "      <td>是汉奸还是被强奸自己对号入座吧</td>\n",
       "    </tr>\n",
       "  </tbody>\n",
       "</table>\n",
       "<p>786600 rows × 2 columns</p>\n",
       "</div>"
      ],
      "text/plain": [
       "        标签                                                 内容\n",
       "0        0                      商业秘密的秘密性那是维系其商业价值和垄断地位的前提条件之一\n",
       "1        1  南口阿玛施新春第一批限量春装到店啦         春暖花开淑女裙、冰蓝色公主衫  ...\n",
       "2        0                                   带给我们大常州一场壮观的视觉盛宴\n",
       "3        0                                      有原因不明的泌尿系统结石等\n",
       "4        0                                    23年从盐城拉回来的麻麻的嫁妆\n",
       "...     ..                                                ...\n",
       "786595   0                                  助排毒缓解痛经预防子宫肌瘤&amp\n",
       "786596   0                                   这是今年首次启动I级防台应急响应\n",
       "786597   0                                     丽江下飞机时迎接我们的是凉风\n",
       "786598   0                            费了半天劲各种找关系终于联系上心仪公司的内部人\n",
       "786599   0                                    是汉奸还是被强奸自己对号入座吧\n",
       "\n",
       "[786600 rows x 2 columns]"
      ]
     },
     "execution_count": 6,
     "metadata": {},
     "output_type": "execute_result"
    }
   ],
   "source": [
    "# 去除重复短信\n",
    "df_wlabel.drop_duplicates(subset = None, inplace = True)\n",
    "df_wlabel = df_wlabel.reset_index(drop = True)\n",
    "df_wlabel"
   ]
  },
  {
   "cell_type": "code",
   "execution_count": 7,
   "metadata": {},
   "outputs": [],
   "source": [
    "import jieba\n",
    "\n",
    "# 分词函数\n",
    "# 传入列, 停用词文件\n",
    "def word_cut(column, file_stopwords = 'hit_stopwords.txt'):\n",
    "    result = []\n",
    "    if file_stopwords is not None:\n",
    "        with open(file_stopwords) as f:\n",
    "            stoplist = f.read();\n",
    "    for s in column:\n",
    "        words_list = []\n",
    "        bagofwords = jieba.cut(s, cut_all = False)\n",
    "        if file_stopwords is not None:\n",
    "            for word in bagofwords:\n",
    "                if word not in stoplist:\n",
    "                    words_list.append(word)\n",
    "        else:\n",
    "            for word in bagofwords:\n",
    "                words_list.append(word)\n",
    "        result.append((' '.join(words_list)))\n",
    "    return pd.Series(result)"
   ]
  },
  {
   "cell_type": "markdown",
   "metadata": {},
   "source": [
    "### 初次运行请取消注释"
   ]
  },
  {
   "cell_type": "code",
   "execution_count": 8,
   "metadata": {},
   "outputs": [],
   "source": [
    "# 由于查找停用词加分词很慢, 先做初步分词, 保存csv, 后续直接加载节省时间\n",
    "# 处理 stopwords\n",
    "#parsed_df_wlabel = pd.DataFrame(df_wlabel['标签'], columns = ['标签'])\n",
    "#parsed_df_wlabel['内容'] = word_cut(df_wlabel['内容'])\n",
    "#parsed_df_wlabel"
   ]
  },
  {
   "cell_type": "code",
   "execution_count": 9,
   "metadata": {},
   "outputs": [],
   "source": [
    "#parsed_df_wlabel.to_csv('短信数据(分词后)/带标签短信(分词后).csv', index = False)"
   ]
  },
  {
   "cell_type": "code",
   "execution_count": 10,
   "metadata": {},
   "outputs": [],
   "source": [
    "# 不处理 stopwords\n",
    "#parsed_df_wlabel_wstop = pd.DataFrame(df_wlabel['标签'], columns = ['标签'])\n",
    "#parsed_df_wlabel_wstop['内容'] = word_cut(df_wlabel['内容'], file_stopwords = None)\n",
    "#parsed_df_wlabel_wstop.to_csv('短信数据(分词后)/带标签短信(分词后, 含停用词).csv', index = False)"
   ]
  },
  {
   "cell_type": "markdown",
   "metadata": {},
   "source": [
    "## 2. 文本表达与分类"
   ]
  },
  {
   "cell_type": "markdown",
   "metadata": {},
   "source": [
    "### 2.1 朴素贝叶斯-MultinomialNB"
   ]
  },
  {
   "cell_type": "markdown",
   "metadata": {},
   "source": [
    "### 2.1.1 特征提取"
   ]
  },
  {
   "cell_type": "code",
   "execution_count": 11,
   "metadata": {
    "scrolled": true
   },
   "outputs": [
    {
     "data": {
      "text/html": [
       "<div>\n",
       "<style scoped>\n",
       "    .dataframe tbody tr th:only-of-type {\n",
       "        vertical-align: middle;\n",
       "    }\n",
       "\n",
       "    .dataframe tbody tr th {\n",
       "        vertical-align: top;\n",
       "    }\n",
       "\n",
       "    .dataframe thead th {\n",
       "        text-align: right;\n",
       "    }\n",
       "</style>\n",
       "<table border=\"1\" class=\"dataframe\">\n",
       "  <thead>\n",
       "    <tr style=\"text-align: right;\">\n",
       "      <th></th>\n",
       "      <th>标签</th>\n",
       "      <th>内容</th>\n",
       "    </tr>\n",
       "  </thead>\n",
       "  <tbody>\n",
       "    <tr>\n",
       "      <th>0</th>\n",
       "      <td>0</td>\n",
       "      <td>商业秘密 秘密性 维系 商业价值 垄断 地位 前提条件</td>\n",
       "    </tr>\n",
       "    <tr>\n",
       "      <th>1</th>\n",
       "      <td>1</td>\n",
       "      <td>南口 阿玛施 新春 第一批 限量 春装 店    春暖花开 淑女 裙 冰 蓝色 公主 ...</td>\n",
       "    </tr>\n",
       "    <tr>\n",
       "      <th>2</th>\n",
       "      <td>0</td>\n",
       "      <td>带给 大 常州 一场 壮观 视觉 盛宴</td>\n",
       "    </tr>\n",
       "    <tr>\n",
       "      <th>3</th>\n",
       "      <td>0</td>\n",
       "      <td>原因 不明 泌尿系统 结石</td>\n",
       "    </tr>\n",
       "    <tr>\n",
       "      <th>4</th>\n",
       "      <td>0</td>\n",
       "      <td>23 盐城 拉回来 麻麻 嫁妆</td>\n",
       "    </tr>\n",
       "    <tr>\n",
       "      <th>...</th>\n",
       "      <td>...</td>\n",
       "      <td>...</td>\n",
       "    </tr>\n",
       "    <tr>\n",
       "      <th>786595</th>\n",
       "      <td>0</td>\n",
       "      <td>助 排毒 缓解 痛经 预防 子宫 肌瘤 amp</td>\n",
       "    </tr>\n",
       "    <tr>\n",
       "      <th>786596</th>\n",
       "      <td>0</td>\n",
       "      <td>这是 今年 首次 启动 I 级 防台 应急 响应</td>\n",
       "    </tr>\n",
       "    <tr>\n",
       "      <th>786597</th>\n",
       "      <td>0</td>\n",
       "      <td>丽江 飞机 迎接 凉风</td>\n",
       "    </tr>\n",
       "    <tr>\n",
       "      <th>786598</th>\n",
       "      <td>0</td>\n",
       "      <td>费 半天 劲 找 关系 终于 联系 心仪 公司 内部</td>\n",
       "    </tr>\n",
       "    <tr>\n",
       "      <th>786599</th>\n",
       "      <td>0</td>\n",
       "      <td>汉奸 强奸 对号入座</td>\n",
       "    </tr>\n",
       "  </tbody>\n",
       "</table>\n",
       "<p>786600 rows × 2 columns</p>\n",
       "</div>"
      ],
      "text/plain": [
       "        标签                                                 内容\n",
       "0        0                        商业秘密 秘密性 维系 商业价值 垄断 地位 前提条件\n",
       "1        1  南口 阿玛施 新春 第一批 限量 春装 店    春暖花开 淑女 裙 冰 蓝色 公主 ...\n",
       "2        0                                带给 大 常州 一场 壮观 视觉 盛宴\n",
       "3        0                                      原因 不明 泌尿系统 结石\n",
       "4        0                                    23 盐城 拉回来 麻麻 嫁妆\n",
       "...     ..                                                ...\n",
       "786595   0                            助 排毒 缓解 痛经 预防 子宫 肌瘤 amp\n",
       "786596   0                           这是 今年 首次 启动 I 级 防台 应急 响应\n",
       "786597   0                                        丽江 飞机 迎接 凉风\n",
       "786598   0                         费 半天 劲 找 关系 终于 联系 心仪 公司 内部\n",
       "786599   0                                         汉奸 强奸 对号入座\n",
       "\n",
       "[786600 rows x 2 columns]"
      ]
     },
     "execution_count": 11,
     "metadata": {},
     "output_type": "execute_result"
    }
   ],
   "source": [
    "# 注意: 因为分词后会有空内容, 需要处理一下\n",
    "train_parsed_df = pd.read_csv('短信数据(分词后)/带标签短信(分词后).csv')\n",
    "train_parsed_df['内容'].fillna('', inplace = True)\n",
    "train_parsed_df"
   ]
  },
  {
   "cell_type": "code",
   "execution_count": 12,
   "metadata": {},
   "outputs": [],
   "source": [
    "# 分测试集\n",
    "from sklearn.model_selection import train_test_split \n",
    "X_train, X_test, y_train, y_test = train_test_split(\n",
    "    train_parsed_df['内容'], train_parsed_df['标签'], \n",
    "    test_size = 0.15, random_state = 0)"
   ]
  },
  {
   "cell_type": "code",
   "execution_count": 13,
   "metadata": {},
   "outputs": [],
   "source": [
    "# 特征提取\n",
    "from sklearn.feature_extraction.text import CountVectorizer, TfidfTransformer\n",
    "\n",
    "# 训练集文本特征提取\n",
    "vectorizer = CountVectorizer()\n",
    "X_train_termcounts = vectorizer.fit_transform(X_train)\n",
    "tfidf_transformer = TfidfTransformer()\n",
    "X_train_tfidf = tfidf_transformer.fit_transform(X_train_termcounts)\n",
    "\n",
    "# 测试集进行文本特征提取\n",
    "X_test_termcounts  = vectorizer.transform(X_test) \n",
    "X_test_tfidf = tfidf_transformer.transform(X_test_termcounts)"
   ]
  },
  {
   "cell_type": "markdown",
   "metadata": {},
   "source": [
    "### 2.1.2 模型训练及评估"
   ]
  },
  {
   "cell_type": "code",
   "execution_count": 14,
   "metadata": {},
   "outputs": [],
   "source": [
    "# 建立朴素贝叶斯分类器并进行训练\n",
    "from sklearn.naive_bayes import MultinomialNB, GaussianNB\n",
    "MNBclf = MultinomialNB().fit(X_train_tfidf, y_train)"
   ]
  },
  {
   "cell_type": "markdown",
   "metadata": {},
   "source": [
    "#### 我认为，在垃圾短信分类的情景中，对于正常信息要同时关注准确度(precision)，\n",
    "#### 和召回率(recall)，因为我们不能“错杀”用户的正常短信；\n",
    "#### 对于垃圾短信，准确度尽量要高，同样是不能“错杀”正常短信；\n",
    "#### 但我们可以允许漏掉一些，那么对于召回率要求相对较弱"
   ]
  },
  {
   "cell_type": "code",
   "execution_count": 15,
   "metadata": {},
   "outputs": [
    {
     "name": "stdout",
     "output_type": "stream",
     "text": [
      "              precision    recall  f1-score   support\n",
      "\n",
      "           0       0.99      1.00      0.99    601412\n",
      "           1       0.98      0.91      0.94     67198\n",
      "\n",
      "    accuracy                           0.99    668610\n",
      "   macro avg       0.99      0.95      0.97    668610\n",
      "weighted avg       0.99      0.99      0.99    668610\n",
      "\n",
      "              precision    recall  f1-score   support\n",
      "\n",
      "           0       0.99      1.00      0.99    106048\n",
      "           1       0.98      0.88      0.93     11942\n",
      "\n",
      "    accuracy                           0.99    117990\n",
      "   macro avg       0.98      0.94      0.96    117990\n",
      "weighted avg       0.99      0.99      0.99    117990\n",
      "\n"
     ]
    }
   ],
   "source": [
    "from sklearn.metrics import classification_report, confusion_matrix\n",
    "\n",
    "# 训练集上的评估\n",
    "y_train_predicted = MNBclf.predict(X_train_tfidf)\n",
    "print(classification_report(y_train, y_train_predicted))\n",
    "\n",
    "# 测试集上的评估\n",
    "y_test_predicted = MNBclf.predict(X_test_tfidf)\n",
    "print(classification_report(y_test, y_test_predicted))"
   ]
  },
  {
   "cell_type": "markdown",
   "metadata": {},
   "source": [
    "### 2.1.3 对比不去除停用词的效果\n",
    "#### 我同时看了一下不去除停用词的预测效果, 发现不去除停用词的结果稍差."
   ]
  },
  {
   "cell_type": "code",
   "execution_count": 16,
   "metadata": {},
   "outputs": [
    {
     "name": "stdout",
     "output_type": "stream",
     "text": [
      "              precision    recall  f1-score   support\n",
      "\n",
      "           0       0.99      1.00      0.99    601412\n",
      "           1       0.98      0.91      0.94     67198\n",
      "\n",
      "    accuracy                           0.99    668610\n",
      "   macro avg       0.99      0.95      0.97    668610\n",
      "weighted avg       0.99      0.99      0.99    668610\n",
      "\n",
      "              precision    recall  f1-score   support\n",
      "\n",
      "           0       0.99      1.00      0.99    106048\n",
      "           1       0.98      0.88      0.93     11942\n",
      "\n",
      "    accuracy                           0.99    117990\n",
      "   macro avg       0.98      0.94      0.96    117990\n",
      "weighted avg       0.99      0.99      0.99    117990\n",
      "\n"
     ]
    }
   ],
   "source": [
    "# 看看不去掉停用词的训练效果\n",
    "train_parsed_df = pd.read_csv('短信数据(分词后)/带标签短信(分词后, 含停用词).csv')\n",
    "train_parsed_df['内容'].fillna('', inplace = True)\n",
    "\n",
    "X_train, X_test, y_train, y_test = train_test_split(\n",
    "    train_parsed_df['内容'], train_parsed_df['标签'], \n",
    "    test_size = 0.15, random_state = 0)\n",
    "\n",
    "# 训练集文本特征提取\n",
    "vectorizer = CountVectorizer()\n",
    "X_train_termcounts = vectorizer.fit_transform(X_train)\n",
    "tfidf_transformer = TfidfTransformer()\n",
    "X_train_tfidf = tfidf_transformer.fit_transform(X_train_termcounts)\n",
    "\n",
    "# 测试集进行文本特征提取\n",
    "X_test_termcounts  = vectorizer.transform(X_test) \n",
    "X_test_tfidf = tfidf_transformer.transform(X_test_termcounts)\n",
    "\n",
    "classifier = MultinomialNB().fit(X_train_tfidf, y_train)\n",
    "\n",
    "# 训练集上的评估\n",
    "y_train_predicted = classifier.predict(X_train_tfidf)\n",
    "print(classification_report(y_train, y_train_predicted))\n",
    "\n",
    "# 测试集上的评估\n",
    "y_test_predicted = classifier.predict(X_test_tfidf)\n",
    "print(classification_report(y_test, y_test_predicted))"
   ]
  },
  {
   "cell_type": "markdown",
   "metadata": {},
   "source": [
    "### 2.2 朴素贝叶斯-GaussianNB\n",
    "#### 效果较差, 不如 MultinominalNB"
   ]
  },
  {
   "cell_type": "code",
   "execution_count": 17,
   "metadata": {},
   "outputs": [],
   "source": [
    "train_parsed_df = pd.read_csv('短信数据(分词后)/带标签短信(分词后).csv')\n",
    "train_parsed_df['内容'].fillna('', inplace = True)\n",
    "\n",
    "X_train, X_test, y_train, y_test = train_test_split(\n",
    "    train_parsed_df['内容'], train_parsed_df['标签'], \n",
    "    test_size = 0.15, random_state = 0)\n",
    "\n",
    "# 训练集文本特征提取\n",
    "vectorizer = CountVectorizer()\n",
    "X_train_termcounts = vectorizer.fit_transform(X_train)\n",
    "tfidf_transformer = TfidfTransformer()\n",
    "X_train_tfidf = tfidf_transformer.fit_transform(X_train_termcounts)\n",
    "\n",
    "# 测试集进行文本特征提取\n",
    "X_test_termcounts  = vectorizer.transform(X_test) \n",
    "X_test_tfidf = tfidf_transformer.transform(X_test_termcounts)"
   ]
  },
  {
   "cell_type": "code",
   "execution_count": 18,
   "metadata": {},
   "outputs": [],
   "source": [
    "from sklearn.decomposition import TruncatedSVD\n",
    "from sklearn.preprocessing import Normalizer\n",
    "from sklearn.pipeline import make_pipeline\n",
    "\n",
    "# GaussianNB 不接受稀疏矩阵, 尝试SVD降维\n",
    "svd = TruncatedSVD(5)\n",
    "normalizer = Normalizer(copy = False)\n",
    "lsa = make_pipeline(svd, normalizer) \n",
    "X_train_new = lsa.fit_transform(X_train_tfidf)\n",
    "X_test_new = lsa.transform(X_test_tfidf)"
   ]
  },
  {
   "cell_type": "code",
   "execution_count": 19,
   "metadata": {},
   "outputs": [
    {
     "name": "stdout",
     "output_type": "stream",
     "text": [
      "              precision    recall  f1-score   support\n",
      "\n",
      "           0       0.99      0.92      0.95    601412\n",
      "           1       0.57      0.90      0.70     67198\n",
      "\n",
      "    accuracy                           0.92    668610\n",
      "   macro avg       0.78      0.91      0.83    668610\n",
      "weighted avg       0.95      0.92      0.93    668610\n",
      "\n",
      "              precision    recall  f1-score   support\n",
      "\n",
      "           0       0.99      0.92      0.95    106048\n",
      "           1       0.57      0.90      0.70     11942\n",
      "\n",
      "    accuracy                           0.92    117990\n",
      "   macro avg       0.78      0.91      0.83    117990\n",
      "weighted avg       0.95      0.92      0.93    117990\n",
      "\n"
     ]
    }
   ],
   "source": [
    "GNBclf = GaussianNB().fit(X_train_new, y_train)\n",
    "# 训练集上的评估\n",
    "y_train_predicted = GNBclf.predict(X_train_new)\n",
    "print(classification_report(y_train, y_train_predicted))\n",
    "\n",
    "# 测试集上的评估\n",
    "y_test_predicted = GNBclf.predict(X_test_new)\n",
    "print(classification_report(y_test, y_test_predicted))"
   ]
  },
  {
   "cell_type": "markdown",
   "metadata": {},
   "source": [
    "### 2.3 KNN\n",
    "#### 好于 GaussianNB, 但弱于 MultinominalNB"
   ]
  },
  {
   "cell_type": "code",
   "execution_count": 20,
   "metadata": {},
   "outputs": [
    {
     "name": "stdout",
     "output_type": "stream",
     "text": [
      "              precision    recall  f1-score   support\n",
      "\n",
      "           0       0.98      0.99      0.99    601412\n",
      "           1       0.89      0.86      0.87     67198\n",
      "\n",
      "    accuracy                           0.98    668610\n",
      "   macro avg       0.94      0.92      0.93    668610\n",
      "weighted avg       0.97      0.98      0.97    668610\n",
      "\n",
      "              precision    recall  f1-score   support\n",
      "\n",
      "           0       0.98      0.98      0.98    106048\n",
      "           1       0.83      0.81      0.82     11942\n",
      "\n",
      "    accuracy                           0.96    117990\n",
      "   macro avg       0.90      0.89      0.90    117990\n",
      "weighted avg       0.96      0.96      0.96    117990\n",
      "\n"
     ]
    }
   ],
   "source": [
    "# KNN模型\n",
    "from sklearn.neighbors import KNeighborsClassifier\n",
    "\n",
    "KNNclf = KNeighborsClassifier()\n",
    "KNNclf.fit(X_train_new, y_train)\n",
    "\n",
    "# 训练集上的评估\n",
    "y_train_predicted = KNNclf.predict(X_train_new)\n",
    "print(classification_report(y_train, y_train_predicted))\n",
    "\n",
    "# 测试集上的评估\n",
    "y_test_predicted = KNNclf.predict(X_test_new)\n",
    "print(classification_report(y_test, y_test_predicted))"
   ]
  },
  {
   "cell_type": "markdown",
   "metadata": {},
   "source": [
    "### 2.4 决策树\n",
    "#### 效果略弱于 KNN, 但是训练快"
   ]
  },
  {
   "cell_type": "code",
   "execution_count": 21,
   "metadata": {},
   "outputs": [
    {
     "name": "stdout",
     "output_type": "stream",
     "text": [
      "              precision    recall  f1-score   support\n",
      "\n",
      "           0       0.98      0.98      0.98    601412\n",
      "           1       0.83      0.82      0.83     67198\n",
      "\n",
      "    accuracy                           0.97    668610\n",
      "   macro avg       0.91      0.90      0.90    668610\n",
      "weighted avg       0.97      0.97      0.97    668610\n",
      "\n",
      "              precision    recall  f1-score   support\n",
      "\n",
      "           0       0.98      0.98      0.98    106048\n",
      "           1       0.81      0.80      0.81     11942\n",
      "\n",
      "    accuracy                           0.96    117990\n",
      "   macro avg       0.89      0.89      0.89    117990\n",
      "weighted avg       0.96      0.96      0.96    117990\n",
      "\n"
     ]
    }
   ],
   "source": [
    "from sklearn.tree import DecisionTreeClassifier\n",
    "\n",
    "DTclf = DecisionTreeClassifier(max_depth = 10, min_samples_split = 2)\n",
    "DTclf.fit(X_train_new, y_train)\n",
    "\n",
    "# 训练集上的评估\n",
    "y_train_predicted = DTclf.predict(X_train_new)\n",
    "print(classification_report(y_train, y_train_predicted))\n",
    "\n",
    "# 测试集上的评估\n",
    "y_test_predicted = DTclf.predict(X_test_new)\n",
    "print(classification_report(y_test, y_test_predicted))"
   ]
  },
  {
   "cell_type": "markdown",
   "metadata": {},
   "source": [
    "### 2.5 未标记短信预测\n",
    "#### 通过比较我们可以选出一个最好的分类模型 MultinominalNB，后续用它进行预测"
   ]
  },
  {
   "cell_type": "code",
   "execution_count": 22,
   "metadata": {},
   "outputs": [],
   "source": [
    "train_parsed_df = pd.read_csv('短信数据(分词后)/带标签短信(分词后).csv')\n",
    "train_parsed_df['内容'].fillna('', inplace = True)\n",
    "\n",
    "# 训练集文本特征提取\n",
    "vectorizer = CountVectorizer()\n",
    "X_train_termcounts = vectorizer.fit_transform(X_train)\n",
    "tfidf_transformer = TfidfTransformer()\n",
    "X_train_tfidf = tfidf_transformer.fit_transform(X_train_termcounts)\n",
    "\n",
    "# 测试集进行文本特征提取\n",
    "X_test_termcounts  = vectorizer.transform(X_test) \n",
    "X_test_tfidf = tfidf_transformer.transform(X_test_termcounts)\n",
    "# 建立朴素贝叶斯分类器并进行训练\n",
    "from sklearn.naive_bayes import MultinomialNB, GaussianNB\n",
    "MNBclf = MultinomialNB().fit(X_train_tfidf, y_train)"
   ]
  },
  {
   "cell_type": "code",
   "execution_count": 23,
   "metadata": {},
   "outputs": [
    {
     "data": {
      "text/html": [
       "<div>\n",
       "<style scoped>\n",
       "    .dataframe tbody tr th:only-of-type {\n",
       "        vertical-align: middle;\n",
       "    }\n",
       "\n",
       "    .dataframe tbody tr th {\n",
       "        vertical-align: top;\n",
       "    }\n",
       "\n",
       "    .dataframe thead th {\n",
       "        text-align: right;\n",
       "    }\n",
       "</style>\n",
       "<table border=\"1\" class=\"dataframe\">\n",
       "  <thead>\n",
       "    <tr style=\"text-align: right;\">\n",
       "      <th></th>\n",
       "      <th>内容</th>\n",
       "    </tr>\n",
       "  </thead>\n",
       "  <tbody>\n",
       "    <tr>\n",
       "      <th>0</th>\n",
       "      <td>.x月xx日推出凭证式国债x年期x.xx.xx%，x年期x.xx%到期一次还本付息。真情邮政...</td>\n",
       "    </tr>\n",
       "    <tr>\n",
       "      <th>1</th>\n",
       "      <td>x强度等级水泥的必要性和可行性进行深入研究</td>\n",
       "    </tr>\n",
       "    <tr>\n",
       "      <th>2</th>\n",
       "      <td>Don’tSellaProduct</td>\n",
       "    </tr>\n",
       "    <tr>\n",
       "      <th>3</th>\n",
       "      <td>以上比赛规则由江苏科技大学教职工摄影协会负责解释</td>\n",
       "    </tr>\n",
       "    <tr>\n",
       "      <th>4</th>\n",
       "      <td>坐12个小时飞机身体已经疲惫不堪</td>\n",
       "    </tr>\n",
       "    <tr>\n",
       "      <th>...</th>\n",
       "      <td>...</td>\n",
       "    </tr>\n",
       "    <tr>\n",
       "      <th>198936</th>\n",
       "      <td>之前国内amazon看到有说买到假货</td>\n",
       "    </tr>\n",
       "    <tr>\n",
       "      <th>198937</th>\n",
       "      <td>无锡市金羿杭金融服务有限公司产品大纲1</td>\n",
       "    </tr>\n",
       "    <tr>\n",
       "      <th>198938</th>\n",
       "      <td>融券改为T+1限制日内回转交易</td>\n",
       "    </tr>\n",
       "    <tr>\n",
       "      <th>198939</th>\n",
       "      <td>康大预诊只要你用心做只要下个软件问医生三个问题一个个问还可以发展下家就能赚钱很简单不要交什么...</td>\n",
       "    </tr>\n",
       "    <tr>\n",
       "      <th>198940</th>\n",
       "      <td>电话：028—86301255</td>\n",
       "    </tr>\n",
       "  </tbody>\n",
       "</table>\n",
       "<p>198941 rows × 1 columns</p>\n",
       "</div>"
      ],
      "text/plain": [
       "                                                       内容\n",
       "0       .x月xx日推出凭证式国债x年期x.xx.xx%，x年期x.xx%到期一次还本付息。真情邮政...\n",
       "1                                   x强度等级水泥的必要性和可行性进行深入研究\n",
       "2                                       Don’tSellaProduct\n",
       "3                                以上比赛规则由江苏科技大学教职工摄影协会负责解释\n",
       "4                                        坐12个小时飞机身体已经疲惫不堪\n",
       "...                                                   ...\n",
       "198936                                 之前国内amazon看到有说买到假货\n",
       "198937                                无锡市金羿杭金融服务有限公司产品大纲1\n",
       "198938                                    融券改为T+1限制日内回转交易\n",
       "198939  康大预诊只要你用心做只要下个软件问医生三个问题一个个问还可以发展下家就能赚钱很简单不要交什么...\n",
       "198940                                    电话：028—86301255\n",
       "\n",
       "[198941 rows x 1 columns]"
      ]
     },
     "execution_count": 23,
     "metadata": {},
     "output_type": "execute_result"
    }
   ],
   "source": [
    "df_wolabel = my_read_txt('短信数据/不带标签短信.txt', is_labeled = False, names = ['内容'])\n",
    "# 去除重复短信\n",
    "df_wolabel.drop_duplicates(subset = None, inplace = True)\n",
    "df_wolabel = df_wolabel.reset_index(drop = True)\n",
    "df_wolabel"
   ]
  },
  {
   "cell_type": "markdown",
   "metadata": {},
   "source": [
    "### 初次运行请取消注释"
   ]
  },
  {
   "cell_type": "code",
   "execution_count": 24,
   "metadata": {},
   "outputs": [],
   "source": [
    "# 分词, 仍是保存\n",
    "#parsed_df_wolabel = pd.DataFrame(word_cut(df_wolabel['内容']), columns = ['内容'])\n",
    "#parsed_df_wolabel"
   ]
  },
  {
   "cell_type": "code",
   "execution_count": 25,
   "metadata": {},
   "outputs": [],
   "source": [
    "#parsed_df_wolabel.to_csv('短信数据(分词后)/不带标签短信(分词后).csv', index = False)"
   ]
  },
  {
   "cell_type": "code",
   "execution_count": 26,
   "metadata": {},
   "outputs": [],
   "source": [
    "parsed_df_wolabel = pd.read_csv('短信数据(分词后)/不带标签短信(分词后).csv')\n",
    "# 填充空数据\n",
    "parsed_df_wolabel['内容'].fillna('', inplace = True)\n",
    "# 文本特征提取\n",
    "X_pred_termcounts = vectorizer.transform(df_wolabel['内容'])\n",
    "X_pred_tfidf = tfidf_transformer.transform(X_pred_termcounts)\n",
    "y_pred = MNBclf.predict(X_pred_tfidf)"
   ]
  },
  {
   "cell_type": "code",
   "execution_count": 27,
   "metadata": {},
   "outputs": [
    {
     "data": {
      "text/html": [
       "<div>\n",
       "<style scoped>\n",
       "    .dataframe tbody tr th:only-of-type {\n",
       "        vertical-align: middle;\n",
       "    }\n",
       "\n",
       "    .dataframe tbody tr th {\n",
       "        vertical-align: top;\n",
       "    }\n",
       "\n",
       "    .dataframe thead th {\n",
       "        text-align: right;\n",
       "    }\n",
       "</style>\n",
       "<table border=\"1\" class=\"dataframe\">\n",
       "  <thead>\n",
       "    <tr style=\"text-align: right;\">\n",
       "      <th></th>\n",
       "      <th>标签</th>\n",
       "      <th>内容</th>\n",
       "    </tr>\n",
       "  </thead>\n",
       "  <tbody>\n",
       "    <tr>\n",
       "      <th>0</th>\n",
       "      <td>0</td>\n",
       "      <td>月 xx 推出 凭证式 国债 年期 xx xx% 年期 xx% 到期 一次 还本付息 真情 ...</td>\n",
       "    </tr>\n",
       "    <tr>\n",
       "      <th>1</th>\n",
       "      <td>0</td>\n",
       "      <td>强度 等级 水泥 必要性 可行性 进行 深入研究</td>\n",
       "    </tr>\n",
       "    <tr>\n",
       "      <th>2</th>\n",
       "      <td>0</td>\n",
       "      <td>Don tSellaProduct</td>\n",
       "    </tr>\n",
       "    <tr>\n",
       "      <th>3</th>\n",
       "      <td>0</td>\n",
       "      <td>以上 比赛规则 江苏 科技 大学 教职工 摄影 协会 负责 解释</td>\n",
       "    </tr>\n",
       "    <tr>\n",
       "      <th>4</th>\n",
       "      <td>0</td>\n",
       "      <td>坐 12 小时 飞机 身体 已经 疲惫不堪</td>\n",
       "    </tr>\n",
       "    <tr>\n",
       "      <th>...</th>\n",
       "      <td>...</td>\n",
       "      <td>...</td>\n",
       "    </tr>\n",
       "    <tr>\n",
       "      <th>198936</th>\n",
       "      <td>0</td>\n",
       "      <td>之前 国内 amazon 看到 买 假货</td>\n",
       "    </tr>\n",
       "    <tr>\n",
       "      <th>198937</th>\n",
       "      <td>0</td>\n",
       "      <td>无锡市 金羿 杭 金融服务 有限公司 产品 大纲 1</td>\n",
       "    </tr>\n",
       "    <tr>\n",
       "      <th>198938</th>\n",
       "      <td>0</td>\n",
       "      <td>融券 改为 T 1 限制 日内 回转 交易</td>\n",
       "    </tr>\n",
       "    <tr>\n",
       "      <th>198939</th>\n",
       "      <td>0</td>\n",
       "      <td>康大 预诊 用心 做 下个 软件 医生 三个 问题 一个个 发展 下家 赚钱 很 简单 不要...</td>\n",
       "    </tr>\n",
       "    <tr>\n",
       "      <th>198940</th>\n",
       "      <td>0</td>\n",
       "      <td>电话 028 86301255</td>\n",
       "    </tr>\n",
       "  </tbody>\n",
       "</table>\n",
       "<p>198941 rows × 2 columns</p>\n",
       "</div>"
      ],
      "text/plain": [
       "        标签                                                 内容\n",
       "0        0  月 xx 推出 凭证式 国债 年期 xx xx% 年期 xx% 到期 一次 还本付息 真情 ...\n",
       "1        0                           强度 等级 水泥 必要性 可行性 进行 深入研究\n",
       "2        0                                  Don tSellaProduct\n",
       "3        0                   以上 比赛规则 江苏 科技 大学 教职工 摄影 协会 负责 解释\n",
       "4        0                              坐 12 小时 飞机 身体 已经 疲惫不堪\n",
       "...     ..                                                ...\n",
       "198936   0                               之前 国内 amazon 看到 买 假货\n",
       "198937   0                         无锡市 金羿 杭 金融服务 有限公司 产品 大纲 1\n",
       "198938   0                              融券 改为 T 1 限制 日内 回转 交易\n",
       "198939   0  康大 预诊 用心 做 下个 软件 医生 三个 问题 一个个 发展 下家 赚钱 很 简单 不要...\n",
       "198940   0                                    电话 028 86301255\n",
       "\n",
       "[198941 rows x 2 columns]"
      ]
     },
     "execution_count": 27,
     "metadata": {},
     "output_type": "execute_result"
    }
   ],
   "source": [
    "# 预测\n",
    "parsed_df_wolabel['标签'] = y_pred\n",
    "parsed_df_wolabel = parsed_df_wolabel[['标签', '内容']]\n",
    "parsed_df_wolabel"
   ]
  },
  {
   "cell_type": "code",
   "execution_count": 28,
   "metadata": {},
   "outputs": [],
   "source": [
    "# 整合到原 DF 上\n",
    "df_wolabel['标签'] = y_pred\n",
    "df_wolabel = df_wolabel[['标签', '内容']]"
   ]
  },
  {
   "cell_type": "code",
   "execution_count": 29,
   "metadata": {},
   "outputs": [
    {
     "data": {
      "text/html": [
       "<div>\n",
       "<style scoped>\n",
       "    .dataframe tbody tr th:only-of-type {\n",
       "        vertical-align: middle;\n",
       "    }\n",
       "\n",
       "    .dataframe tbody tr th {\n",
       "        vertical-align: top;\n",
       "    }\n",
       "\n",
       "    .dataframe thead th {\n",
       "        text-align: right;\n",
       "    }\n",
       "</style>\n",
       "<table border=\"1\" class=\"dataframe\">\n",
       "  <thead>\n",
       "    <tr style=\"text-align: right;\">\n",
       "      <th></th>\n",
       "      <th>标签</th>\n",
       "      <th>内容</th>\n",
       "    </tr>\n",
       "  </thead>\n",
       "  <tbody>\n",
       "    <tr>\n",
       "      <th>0</th>\n",
       "      <td>0</td>\n",
       "      <td>商业秘密的秘密性那是维系其商业价值和垄断地位的前提条件之一</td>\n",
       "    </tr>\n",
       "    <tr>\n",
       "      <th>1</th>\n",
       "      <td>1</td>\n",
       "      <td>南口阿玛施新春第一批限量春装到店啦         春暖花开淑女裙、冰蓝色公主衫  ...</td>\n",
       "    </tr>\n",
       "    <tr>\n",
       "      <th>2</th>\n",
       "      <td>0</td>\n",
       "      <td>带给我们大常州一场壮观的视觉盛宴</td>\n",
       "    </tr>\n",
       "    <tr>\n",
       "      <th>3</th>\n",
       "      <td>0</td>\n",
       "      <td>有原因不明的泌尿系统结石等</td>\n",
       "    </tr>\n",
       "    <tr>\n",
       "      <th>4</th>\n",
       "      <td>0</td>\n",
       "      <td>23年从盐城拉回来的麻麻的嫁妆</td>\n",
       "    </tr>\n",
       "    <tr>\n",
       "      <th>...</th>\n",
       "      <td>...</td>\n",
       "      <td>...</td>\n",
       "    </tr>\n",
       "    <tr>\n",
       "      <th>979868</th>\n",
       "      <td>0</td>\n",
       "      <td>所拍数目悉数捐于苏州大观音禅寺</td>\n",
       "    </tr>\n",
       "    <tr>\n",
       "      <th>979869</th>\n",
       "      <td>0</td>\n",
       "      <td>之前国内amazon看到有说买到假货</td>\n",
       "    </tr>\n",
       "    <tr>\n",
       "      <th>979870</th>\n",
       "      <td>0</td>\n",
       "      <td>无锡市金羿杭金融服务有限公司产品大纲1</td>\n",
       "    </tr>\n",
       "    <tr>\n",
       "      <th>979871</th>\n",
       "      <td>0</td>\n",
       "      <td>康大预诊只要你用心做只要下个软件问医生三个问题一个个问还可以发展下家就能赚钱很简单不要交什么...</td>\n",
       "    </tr>\n",
       "    <tr>\n",
       "      <th>979872</th>\n",
       "      <td>0</td>\n",
       "      <td>电话：028—86301255</td>\n",
       "    </tr>\n",
       "  </tbody>\n",
       "</table>\n",
       "<p>979873 rows × 2 columns</p>\n",
       "</div>"
      ],
      "text/plain": [
       "        标签                                                 内容\n",
       "0        0                      商业秘密的秘密性那是维系其商业价值和垄断地位的前提条件之一\n",
       "1        1  南口阿玛施新春第一批限量春装到店啦         春暖花开淑女裙、冰蓝色公主衫  ...\n",
       "2        0                                   带给我们大常州一场壮观的视觉盛宴\n",
       "3        0                                      有原因不明的泌尿系统结石等\n",
       "4        0                                    23年从盐城拉回来的麻麻的嫁妆\n",
       "...     ..                                                ...\n",
       "979868   0                                    所拍数目悉数捐于苏州大观音禅寺\n",
       "979869   0                                 之前国内amazon看到有说买到假货\n",
       "979870   0                                无锡市金羿杭金融服务有限公司产品大纲1\n",
       "979871   0  康大预诊只要你用心做只要下个软件问医生三个问题一个个问还可以发展下家就能赚钱很简单不要交什么...\n",
       "979872   0                                    电话：028—86301255\n",
       "\n",
       "[979873 rows x 2 columns]"
      ]
     },
     "execution_count": 29,
     "metadata": {},
     "output_type": "execute_result"
    }
   ],
   "source": [
    "# 拼接去重并保存\n",
    "messages = pd.concat([df_wlabel, df_wolabel], ignore_index = True)\n",
    "messages.drop_duplicates(subset = None, inplace = True)\n",
    "messages = messages.reset_index(drop = True)\n",
    "messages.to_csv('所有短信.csv', index = False)\n",
    "messages"
   ]
  },
  {
   "cell_type": "markdown",
   "metadata": {},
   "source": [
    "### 2.6 两类短信的词云"
   ]
  },
  {
   "cell_type": "code",
   "execution_count": 30,
   "metadata": {},
   "outputs": [],
   "source": [
    "# 看看两者词云吧\n",
    "import matplotlib\n",
    "import matplotlib.pyplot as plt\n",
    "# 词云\n",
    "from wordcloud import WordCloud,STOPWORDS\n",
    "# 标题使用中文\n",
    "myfont = matplotlib.font_manager.FontProperties(fname=\"HYQiHei-105.ttf\", size=30)\n",
    "matplotlib.rcParams['axes.unicode_minus'] = False\n",
    "\n",
    "# 绘制词云\n",
    "# words: 词列表; title: 词云标题; color: 背景色; mask: 轮廓图\n",
    "def draw_wordcloud (words, title = None, color = 'white', mask = None):\n",
    "    wordcloud = WordCloud(stopwords = STOPWORDS,\n",
    "                          font_path=\"HYQiHei-105.ttf\",\n",
    "                          background_color=color,\n",
    "                          mask=mask,\n",
    "                          width=1000,\n",
    "                          height=1500\n",
    "                         ).generate(words)\n",
    "    plt.figure(1, figsize=(10, 5))\n",
    "    # 标题中文\n",
    "    plt.title(title, fontproperties = myfont)\n",
    "    plt.imshow(wordcloud)\n",
    "    plt.axis('off')\n",
    "    plt.show()"
   ]
  },
  {
   "cell_type": "code",
   "execution_count": 31,
   "metadata": {},
   "outputs": [
    {
     "name": "stdout",
     "output_type": "stream",
     "text": [
      "正常短信词云:\n"
     ]
    },
    {
     "data": {
      "image/png": "[encoded data removed]",
      "text/plain": [
       "<Figure size 720x360 with 1 Axes>"
      ]
     },
     "metadata": {
      "needs_background": "light"
     },
     "output_type": "display_data"
    }
   ],
   "source": [
    "# 导入背景轮廓图用\n",
    "import PIL .Image as image\n",
    "\n",
    "messages_parsed = pd.concat([train_parsed_df, parsed_df_wolabel], ignore_index = True)\n",
    "messages_parsed.drop_duplicates(subset = None, inplace = True)\n",
    "messages_parsed = messages_parsed.reset_index(drop = True)\n",
    "\n",
    "# 收集词汇\n",
    "words_normal = ' '.join(messages_parsed[messages_parsed['标签'] == 0]['内容'])\n",
    "print('正常短信词云:')\n",
    "draw_wordcloud(words_normal, title ='正常短信词云', color='white')"
   ]
  },
  {
   "cell_type": "markdown",
   "metadata": {},
   "source": [
    "### 正常短信生活气息重一些"
   ]
  },
  {
   "cell_type": "code",
   "execution_count": 32,
   "metadata": {},
   "outputs": [
    {
     "name": "stdout",
     "output_type": "stream",
     "text": [
      "垃圾短信词云:\n"
     ]
    },
    {
     "data": {
      "image/png": "[encoded data removed]",
      "text/plain": [
       "<Figure size 720x360 with 1 Axes>"
      ]
     },
     "metadata": {
      "needs_background": "light"
     },
     "output_type": "display_data"
    }
   ],
   "source": [
    "words_spam = ' '.join(messages_parsed[messages_parsed['标签'] == 1]['内容'])\n",
    "print('垃圾短信词云:')\n",
    "draw_wordcloud(words_spam, title ='垃圾短信词云', color='white')"
   ]
  },
  {
   "cell_type": "markdown",
   "metadata": {},
   "source": [
    "### 垃圾短信主要是推销信息"
   ]
  },
  {
   "cell_type": "markdown",
   "metadata": {},
   "source": [
    "## 3. 文本检索"
   ]
  },
  {
   "cell_type": "markdown",
   "metadata": {},
   "source": [
    "### 3.1 ElasticSearch 建立搜索引擎"
   ]
  },
  {
   "cell_type": "markdown",
   "metadata": {},
   "source": [
    "#### 需要安装插件, 在 elasticsearch 目录下执行:\n",
    "./bin/elasticsearch-plugin install https://github.com/medcl/elasticsearch-analysis-ik/releases/download/v7.7.0/elasticsearch-analysis-ik-7.7.0.zip"
   ]
  },
  {
   "cell_type": "code",
   "execution_count": 33,
   "metadata": {},
   "outputs": [
    {
     "data": {
      "text/html": [
       "<div>\n",
       "<style scoped>\n",
       "    .dataframe tbody tr th:only-of-type {\n",
       "        vertical-align: middle;\n",
       "    }\n",
       "\n",
       "    .dataframe tbody tr th {\n",
       "        vertical-align: top;\n",
       "    }\n",
       "\n",
       "    .dataframe thead th {\n",
       "        text-align: right;\n",
       "    }\n",
       "</style>\n",
       "<table border=\"1\" class=\"dataframe\">\n",
       "  <thead>\n",
       "    <tr style=\"text-align: right;\">\n",
       "      <th></th>\n",
       "      <th>标签</th>\n",
       "      <th>内容</th>\n",
       "    </tr>\n",
       "  </thead>\n",
       "  <tbody>\n",
       "    <tr>\n",
       "      <th>0</th>\n",
       "      <td>0</td>\n",
       "      <td>商业秘密的秘密性那是维系其商业价值和垄断地位的前提条件之一</td>\n",
       "    </tr>\n",
       "    <tr>\n",
       "      <th>1</th>\n",
       "      <td>1</td>\n",
       "      <td>南口阿玛施新春第一批限量春装到店啦         春暖花开淑女裙、冰蓝色公主衫  ...</td>\n",
       "    </tr>\n",
       "    <tr>\n",
       "      <th>2</th>\n",
       "      <td>0</td>\n",
       "      <td>带给我们大常州一场壮观的视觉盛宴</td>\n",
       "    </tr>\n",
       "    <tr>\n",
       "      <th>3</th>\n",
       "      <td>0</td>\n",
       "      <td>有原因不明的泌尿系统结石等</td>\n",
       "    </tr>\n",
       "    <tr>\n",
       "      <th>4</th>\n",
       "      <td>0</td>\n",
       "      <td>23年从盐城拉回来的麻麻的嫁妆</td>\n",
       "    </tr>\n",
       "    <tr>\n",
       "      <th>...</th>\n",
       "      <td>...</td>\n",
       "      <td>...</td>\n",
       "    </tr>\n",
       "    <tr>\n",
       "      <th>979868</th>\n",
       "      <td>0</td>\n",
       "      <td>所拍数目悉数捐于苏州大观音禅寺</td>\n",
       "    </tr>\n",
       "    <tr>\n",
       "      <th>979869</th>\n",
       "      <td>0</td>\n",
       "      <td>之前国内amazon看到有说买到假货</td>\n",
       "    </tr>\n",
       "    <tr>\n",
       "      <th>979870</th>\n",
       "      <td>0</td>\n",
       "      <td>无锡市金羿杭金融服务有限公司产品大纲1</td>\n",
       "    </tr>\n",
       "    <tr>\n",
       "      <th>979871</th>\n",
       "      <td>0</td>\n",
       "      <td>康大预诊只要你用心做只要下个软件问医生三个问题一个个问还可以发展下家就能赚钱很简单不要交什么...</td>\n",
       "    </tr>\n",
       "    <tr>\n",
       "      <th>979872</th>\n",
       "      <td>0</td>\n",
       "      <td>电话：028—86301255</td>\n",
       "    </tr>\n",
       "  </tbody>\n",
       "</table>\n",
       "<p>979873 rows × 2 columns</p>\n",
       "</div>"
      ],
      "text/plain": [
       "        标签                                                 内容\n",
       "0        0                      商业秘密的秘密性那是维系其商业价值和垄断地位的前提条件之一\n",
       "1        1  南口阿玛施新春第一批限量春装到店啦         春暖花开淑女裙、冰蓝色公主衫  ...\n",
       "2        0                                   带给我们大常州一场壮观的视觉盛宴\n",
       "3        0                                      有原因不明的泌尿系统结石等\n",
       "4        0                                    23年从盐城拉回来的麻麻的嫁妆\n",
       "...     ..                                                ...\n",
       "979868   0                                    所拍数目悉数捐于苏州大观音禅寺\n",
       "979869   0                                 之前国内amazon看到有说买到假货\n",
       "979870   0                                无锡市金羿杭金融服务有限公司产品大纲1\n",
       "979871   0  康大预诊只要你用心做只要下个软件问医生三个问题一个个问还可以发展下家就能赚钱很简单不要交什么...\n",
       "979872   0                                    电话：028—86301255\n",
       "\n",
       "[979873 rows x 2 columns]"
      ]
     },
     "execution_count": 33,
     "metadata": {},
     "output_type": "execute_result"
    }
   ],
   "source": [
    "# 导入全标签短信\n",
    "import numpy as np\n",
    "import pandas as pd\n",
    "messages = pd.read_csv('所有短信.csv')\n",
    "messages['内容'].fillna('', inplace = True)\n",
    "messages"
   ]
  },
  {
   "cell_type": "markdown",
   "metadata": {},
   "source": [
    "#### 以下需要启动elasticsearch"
   ]
  },
  {
   "cell_type": "code",
   "execution_count": 34,
   "metadata": {},
   "outputs": [
    {
     "data": {
      "text/plain": [
       "{'acknowledged': True}"
      ]
     },
     "execution_count": 34,
     "metadata": {},
     "output_type": "execute_result"
    }
   ],
   "source": [
    "# 导入包\n",
    "from elasticsearch import Elasticsearch\n",
    "es = Elasticsearch()\n",
    "# 创建 message 索引\n",
    "es.indices.delete(index = 'messages', ignore = [400, 404])\n",
    "es.indices.create(index = 'messages', ignore = 400)\n",
    "# mapping 分词\n",
    "mapping = {\n",
    "    'properties':{\n",
    "        'content': {\n",
    "            'type': 'text',\n",
    "            'analyzer': 'ik_max_word',\n",
    "            'search_analyzer': 'ik_max_word'\n",
    "        }\n",
    "    }\n",
    "}\n",
    "result = es.indices.put_mapping(index = 'messages', body = mapping)\n",
    "result"
   ]
  },
  {
   "cell_type": "code",
   "execution_count": 35,
   "metadata": {},
   "outputs": [
    {
     "data": {
      "text/plain": [
       "(979873, [])"
      ]
     },
     "execution_count": 35,
     "metadata": {},
     "output_type": "execute_result"
    }
   ],
   "source": [
    "from elasticsearch import helpers\n",
    "# 按格式写到列表中, 批量添加到 elasticsearch 中\n",
    "actions = [\n",
    "    {\n",
    "        '_index':'messages',\n",
    "        '_source':\n",
    "        {\n",
    "            'label': row['标签'],\n",
    "            'content': row['内容']\n",
    "        }\n",
    "    } for index, row in messages.iterrows()\n",
    "]\n",
    "res = helpers.bulk(es, actions)\n",
    "res"
   ]
  },
  {
   "cell_type": "markdown",
   "metadata": {},
   "source": [
    "### 3.2 查询"
   ]
  },
  {
   "cell_type": "code",
   "execution_count": 36,
   "metadata": {},
   "outputs": [],
   "source": [
    "import json\n",
    "# 查询函数, querystr 表示用户输入查询关键词, size 表示需要的条数\n",
    "def es_query(querystr, size = 10):\n",
    "    dsl = {\n",
    "        'query':{\n",
    "            'match':{\n",
    "                'content': querystr\n",
    "            }\n",
    "        }\n",
    "    }\n",
    "    # 查询结果\n",
    "    result = es.search(index = 'messages', body = dsl, size = size)\n",
    "    contents = []\n",
    "    # 处理成 tuple, 方便显示结果给用户\n",
    "    for element in result['hits']['hits']:\n",
    "        contents.append(\n",
    "            tuple(\n",
    "                (element['_source']['content'], \n",
    "                 '是' if element['_source']['label'] == 1 else '否',\n",
    "                 element['_score'])\n",
    "            )\n",
    "        )\n",
    "    queryresult = pd.DataFrame(contents, columns = ['内容', '是否垃圾短信', '相关性分值'])\n",
    "    return queryresult"
   ]
  },
  {
   "cell_type": "code",
   "execution_count": 37,
   "metadata": {},
   "outputs": [
    {
     "data": {
      "text/html": [
       "<div>\n",
       "<style scoped>\n",
       "    .dataframe tbody tr th:only-of-type {\n",
       "        vertical-align: middle;\n",
       "    }\n",
       "\n",
       "    .dataframe tbody tr th {\n",
       "        vertical-align: top;\n",
       "    }\n",
       "\n",
       "    .dataframe thead th {\n",
       "        text-align: right;\n",
       "    }\n",
       "</style>\n",
       "<table border=\"1\" class=\"dataframe\">\n",
       "  <thead>\n",
       "    <tr style=\"text-align: right;\">\n",
       "      <th></th>\n",
       "      <th>内容</th>\n",
       "      <th>是否垃圾短信</th>\n",
       "      <th>相关性分值</th>\n",
       "    </tr>\n",
       "  </thead>\n",
       "  <tbody>\n",
       "    <tr>\n",
       "      <th>0</th>\n",
       "      <td>原梧高《名店服饰》 新货到！春装到！ 名店新款春衣裳， 俏俏丽人换新装。 全天营业，恭候光临！</td>\n",
       "      <td>是</td>\n",
       "      <td>17.094020</td>\n",
       "    </tr>\n",
       "    <tr>\n",
       "      <th>1</th>\n",
       "      <td>南口阿玛施新春第一批限量春装到店啦         春暖花开淑女裙、冰蓝色公主衫  ...</td>\n",
       "      <td>是</td>\n",
       "      <td>17.077433</td>\n",
       "    </tr>\n",
       "    <tr>\n",
       "      <th>2</th>\n",
       "      <td>您好：振华商厦五楼THENxRTHFACE（北面）现秋冬装x折优惠，还有新品春装到店，欢迎来选购！</td>\n",
       "      <td>是</td>\n",
       "      <td>16.967121</td>\n",
       "    </tr>\n",
       "    <tr>\n",
       "      <th>3</th>\n",
       "      <td>你好姐姐，我是银泰哥弟店长的晓玲，店内亮色新款春装到店，糖果色系春装让您靓丽迷人，多款多色风...</td>\n",
       "      <td>否</td>\n",
       "      <td>15.231396</td>\n",
       "    </tr>\n",
       "    <tr>\n",
       "      <th>4</th>\n",
       "      <td>三八女人节唯有宠爱自己，东方广场置地名店旗下倪儿麦新款春装到货啦！x号至八号特推出新款x.x...</td>\n",
       "      <td>是</td>\n",
       "      <td>15.061478</td>\n",
       "    </tr>\n",
       "  </tbody>\n",
       "</table>\n",
       "</div>"
      ],
      "text/plain": [
       "                                                  内容 是否垃圾短信      相关性分值\n",
       "0    原梧高《名店服饰》 新货到！春装到！ 名店新款春衣裳， 俏俏丽人换新装。 全天营业，恭候光临！      是  17.094020\n",
       "1  南口阿玛施新春第一批限量春装到店啦         春暖花开淑女裙、冰蓝色公主衫  ...      是  17.077433\n",
       "2  您好：振华商厦五楼THENxRTHFACE（北面）现秋冬装x折优惠，还有新品春装到店，欢迎来选购！      是  16.967121\n",
       "3  你好姐姐，我是银泰哥弟店长的晓玲，店内亮色新款春装到店，糖果色系春装让您靓丽迷人，多款多色风...      否  15.231396\n",
       "4  三八女人节唯有宠爱自己，东方广场置地名店旗下倪儿麦新款春装到货啦！x号至八号特推出新款x.x...      是  15.061478"
      ]
     },
     "execution_count": 37,
     "metadata": {},
     "output_type": "execute_result"
    }
   ],
   "source": [
    "es_query('春装到店啦', 5)"
   ]
  },
  {
   "cell_type": "code",
   "execution_count": 38,
   "metadata": {},
   "outputs": [
    {
     "data": {
      "text/html": [
       "<div>\n",
       "<style scoped>\n",
       "    .dataframe tbody tr th:only-of-type {\n",
       "        vertical-align: middle;\n",
       "    }\n",
       "\n",
       "    .dataframe tbody tr th {\n",
       "        vertical-align: top;\n",
       "    }\n",
       "\n",
       "    .dataframe thead th {\n",
       "        text-align: right;\n",
       "    }\n",
       "</style>\n",
       "<table border=\"1\" class=\"dataframe\">\n",
       "  <thead>\n",
       "    <tr style=\"text-align: right;\">\n",
       "      <th></th>\n",
       "      <th>内容</th>\n",
       "      <th>是否垃圾短信</th>\n",
       "      <th>相关性分值</th>\n",
       "    </tr>\n",
       "  </thead>\n",
       "  <tbody>\n",
       "    <tr>\n",
       "      <th>0</th>\n",
       "      <td>您好现在草原铁骨丹有大型的优惠活动</td>\n",
       "      <td>是</td>\n",
       "      <td>15.609194</td>\n",
       "    </tr>\n",
       "    <tr>\n",
       "      <th>1</th>\n",
       "      <td>你好 新年好 现飞鹤奶粉有优惠活动</td>\n",
       "      <td>是</td>\n",
       "      <td>15.175663</td>\n",
       "    </tr>\n",
       "    <tr>\n",
       "      <th>2</th>\n",
       "      <td>【翼支付】翼支付优惠再次来袭，绿姿蛋糕消费xxx返xx，超市消费每周三xx折。翼支付消费立返...</td>\n",
       "      <td>否</td>\n",
       "      <td>15.118975</td>\n",
       "    </tr>\n",
       "    <tr>\n",
       "      <th>3</th>\n",
       "      <td>奶粉x月x日当天x.x折的优惠活动                 活动啦 ！！！</td>\n",
       "      <td>否</td>\n",
       "      <td>14.974382</td>\n",
       "    </tr>\n",
       "    <tr>\n",
       "      <th>4</th>\n",
       "      <td>新春优惠-回馈活动；一亿红包-任性抢； 详情-上-金-沙-娱-乐【xxxxxx、C xM}；...</td>\n",
       "      <td>是</td>\n",
       "      <td>14.771811</td>\n",
       "    </tr>\n",
       "  </tbody>\n",
       "</table>\n",
       "</div>"
      ],
      "text/plain": [
       "                                                  内容 是否垃圾短信      相关性分值\n",
       "0                                  您好现在草原铁骨丹有大型的优惠活动      是  15.609194\n",
       "1                                  你好 新年好 现飞鹤奶粉有优惠活动      是  15.175663\n",
       "2  【翼支付】翼支付优惠再次来袭，绿姿蛋糕消费xxx返xx，超市消费每周三xx折。翼支付消费立返...      否  15.118975\n",
       "3          奶粉x月x日当天x.x折的优惠活动                 活动啦 ！！！      否  14.974382\n",
       "4  新春优惠-回馈活动；一亿红包-任性抢； 详情-上-金-沙-娱-乐【xxxxxx、C xM}；...      是  14.771811"
      ]
     },
     "execution_count": 38,
     "metadata": {},
     "output_type": "execute_result"
    }
   ],
   "source": [
    "es_query('优惠活动', 5)"
   ]
  },
  {
   "cell_type": "code",
   "execution_count": 39,
   "metadata": {},
   "outputs": [
    {
     "data": {
      "text/html": [
       "<div>\n",
       "<style scoped>\n",
       "    .dataframe tbody tr th:only-of-type {\n",
       "        vertical-align: middle;\n",
       "    }\n",
       "\n",
       "    .dataframe tbody tr th {\n",
       "        vertical-align: top;\n",
       "    }\n",
       "\n",
       "    .dataframe thead th {\n",
       "        text-align: right;\n",
       "    }\n",
       "</style>\n",
       "<table border=\"1\" class=\"dataframe\">\n",
       "  <thead>\n",
       "    <tr style=\"text-align: right;\">\n",
       "      <th></th>\n",
       "      <th>内容</th>\n",
       "      <th>是否垃圾短信</th>\n",
       "      <th>相关性分值</th>\n",
       "    </tr>\n",
       "  </thead>\n",
       "  <tbody>\n",
       "    <tr>\n",
       "      <th>0</th>\n",
       "      <td>奶茶MM会来南京执掌京东JD+奶茶馆</td>\n",
       "      <td>否</td>\n",
       "      <td>13.459444</td>\n",
       "    </tr>\n",
       "    <tr>\n",
       "      <th>1</th>\n",
       "      <td>妈的回徐州老子要看电影看电影看电影看电影看电影看电影吃烧烤吃烧烤吃烧烤吃烧烤吃烧烤吃烧烤</td>\n",
       "      <td>否</td>\n",
       "      <td>12.856813</td>\n",
       "    </tr>\n",
       "    <tr>\n",
       "      <th>2</th>\n",
       "      <td>横河觅城鲜饮奶茶店招聘奶茶操作员两名</td>\n",
       "      <td>否</td>\n",
       "      <td>12.078279</td>\n",
       "    </tr>\n",
       "    <tr>\n",
       "      <th>3</th>\n",
       "      <td>3、将烧烤酱与酱油、蜂蜜调成烧烤汁</td>\n",
       "      <td>否</td>\n",
       "      <td>11.951901</td>\n",
       "    </tr>\n",
       "    <tr>\n",
       "      <th>4</th>\n",
       "      <td>几天前跑去downtown喝奶茶</td>\n",
       "      <td>否</td>\n",
       "      <td>11.768408</td>\n",
       "    </tr>\n",
       "  </tbody>\n",
       "</table>\n",
       "</div>"
      ],
      "text/plain": [
       "                                             内容 是否垃圾短信      相关性分值\n",
       "0                            奶茶MM会来南京执掌京东JD+奶茶馆      否  13.459444\n",
       "1  妈的回徐州老子要看电影看电影看电影看电影看电影看电影吃烧烤吃烧烤吃烧烤吃烧烤吃烧烤吃烧烤      否  12.856813\n",
       "2                            横河觅城鲜饮奶茶店招聘奶茶操作员两名      否  12.078279\n",
       "3                             3、将烧烤酱与酱油、蜂蜜调成烧烤汁      否  11.951901\n",
       "4                              几天前跑去downtown喝奶茶      否  11.768408"
      ]
     },
     "execution_count": 39,
     "metadata": {},
     "output_type": "execute_result"
    }
   ],
   "source": [
    "es_query('烧烤 奶茶', 5)"
   ]
  },
  {
   "cell_type": "code",
   "execution_count": 40,
   "metadata": {},
   "outputs": [
    {
     "data": {
      "text/html": [
       "<div>\n",
       "<style scoped>\n",
       "    .dataframe tbody tr th:only-of-type {\n",
       "        vertical-align: middle;\n",
       "    }\n",
       "\n",
       "    .dataframe tbody tr th {\n",
       "        vertical-align: top;\n",
       "    }\n",
       "\n",
       "    .dataframe thead th {\n",
       "        text-align: right;\n",
       "    }\n",
       "</style>\n",
       "<table border=\"1\" class=\"dataframe\">\n",
       "  <thead>\n",
       "    <tr style=\"text-align: right;\">\n",
       "      <th></th>\n",
       "      <th>内容</th>\n",
       "      <th>是否垃圾短信</th>\n",
       "      <th>相关性分值</th>\n",
       "    </tr>\n",
       "  </thead>\n",
       "  <tbody>\n",
       "    <tr>\n",
       "      <th>0</th>\n",
       "      <td>简介为人民大学08金融博士</td>\n",
       "      <td>否</td>\n",
       "      <td>24.427206</td>\n",
       "    </tr>\n",
       "    <tr>\n",
       "      <th>1</th>\n",
       "      <td>该男生简介为人民大学xx金融博士</td>\n",
       "      <td>否</td>\n",
       "      <td>22.990513</td>\n",
       "    </tr>\n",
       "    <tr>\n",
       "      <th>2</th>\n",
       "      <td>中国人民大学MBA学历&amp;amp</td>\n",
       "      <td>否</td>\n",
       "      <td>22.333730</td>\n",
       "    </tr>\n",
       "    <tr>\n",
       "      <th>3</th>\n",
       "      <td>称所有人民大学xxxx届学生中</td>\n",
       "      <td>否</td>\n",
       "      <td>22.333730</td>\n",
       "    </tr>\n",
       "    <tr>\n",
       "      <th>4</th>\n",
       "      <td>有质疑称武汉大学的录取通知书“抄袭”了人民大学</td>\n",
       "      <td>否</td>\n",
       "      <td>21.887304</td>\n",
       "    </tr>\n",
       "  </tbody>\n",
       "</table>\n",
       "</div>"
      ],
      "text/plain": [
       "                        内容 是否垃圾短信      相关性分值\n",
       "0            简介为人民大学08金融博士      否  24.427206\n",
       "1         该男生简介为人民大学xx金融博士      否  22.990513\n",
       "2          中国人民大学MBA学历&amp      否  22.333730\n",
       "3          称所有人民大学xxxx届学生中      否  22.333730\n",
       "4  有质疑称武汉大学的录取通知书“抄袭”了人民大学      否  21.887304"
      ]
     },
     "execution_count": 40,
     "metadata": {},
     "output_type": "execute_result"
    }
   ],
   "source": [
    "es_query('人民大学', 5)"
   ]
  },
  {
   "cell_type": "markdown",
   "metadata": {},
   "source": [
    "#### 从上面的几个搜索示例来看，我们的分类模型确实是有些保守了\n",
    "#### 比如我们漏掉了几个不是很明显的垃圾短信\n",
    "#### 但是我们将正常短信几乎都标记为否，不会耽误用户使用"
   ]
  },
  {
   "cell_type": "code",
   "execution_count": null,
   "metadata": {},
   "outputs": [],
   "source": []
  }
 ],
 "metadata": {
  "kernelspec": {
   "display_name": "Python 3",
   "language": "python",
   "name": "python3"
  },
  "language_info": {
   "codemirror_mode": {
    "name": "ipython",
    "version": 3
   },
   "file_extension": ".py",
   "mimetype": "text/x-python",
   "name": "python",
   "nbconvert_exporter": "python",
   "pygments_lexer": "ipython3",
   "version": "3.8.2"
  }
 },
 "nbformat": 4,
 "nbformat_minor": 4
}
